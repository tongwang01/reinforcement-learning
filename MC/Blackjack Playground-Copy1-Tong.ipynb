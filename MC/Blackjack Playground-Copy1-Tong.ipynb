{
 "cells": [
  {
   "cell_type": "code",
   "execution_count": 4,
   "metadata": {
    "collapsed": true
   },
   "outputs": [],
   "source": [
    "import numpy as np\n",
    "import sys\n",
    "if \"../\" not in sys.path:\n",
    "  sys.path.append(\"../\") \n",
    "from lib.envs.blackjack import BlackjackEnv"
   ]
  },
  {
   "cell_type": "code",
   "execution_count": 5,
   "metadata": {
    "collapsed": false
   },
   "outputs": [],
   "source": [
    "env = BlackjackEnv()"
   ]
  },
  {
   "cell_type": "code",
   "execution_count": 7,
   "metadata": {
    "collapsed": false
   },
   "outputs": [
    {
     "name": "stdout",
     "output_type": "stream",
     "text": [
      "Player Score: 13 (Usable Ace: False), Dealer Score: 6\n",
      "Taking action: Hit\n",
      "Player Score: 23 (Usable Ace: False), Dealer Score: 6\n",
      "Game end. Reward: -1.0\n",
      "\n",
      "Player Score: 12 (Usable Ace: False), Dealer Score: 4\n",
      "Taking action: Hit\n",
      "Player Score: 22 (Usable Ace: False), Dealer Score: 4\n",
      "Game end. Reward: -1.0\n",
      "\n",
      "Player Score: 15 (Usable Ace: False), Dealer Score: 4\n",
      "Taking action: Hit\n",
      "Player Score: 16 (Usable Ace: False), Dealer Score: 4\n",
      "Taking action: Hit\n",
      "Player Score: 19 (Usable Ace: False), Dealer Score: 4\n",
      "Taking action: Hit\n",
      "Player Score: 26 (Usable Ace: False), Dealer Score: 4\n",
      "Game end. Reward: -1.0\n",
      "\n",
      "Player Score: 16 (Usable Ace: False), Dealer Score: 7\n",
      "Taking action: Hit\n",
      "Player Score: 25 (Usable Ace: False), Dealer Score: 7\n",
      "Game end. Reward: -1.0\n",
      "\n",
      "Player Score: 15 (Usable Ace: False), Dealer Score: 10\n",
      "Taking action: Hit\n",
      "Player Score: 20 (Usable Ace: False), Dealer Score: 10\n",
      "Taking action: Stick\n",
      "Player Score: 20 (Usable Ace: False), Dealer Score: 10\n",
      "Game end. Reward: 1.0\n",
      "\n",
      "Player Score: 21 (Usable Ace: True), Dealer Score: 2\n",
      "Taking action: Stick\n",
      "Player Score: 21 (Usable Ace: True), Dealer Score: 2\n",
      "Game end. Reward: 1.0\n",
      "\n",
      "Player Score: 16 (Usable Ace: False), Dealer Score: 1\n",
      "Taking action: Hit\n",
      "Player Score: 26 (Usable Ace: False), Dealer Score: 1\n",
      "Game end. Reward: -1.0\n",
      "\n",
      "Player Score: 17 (Usable Ace: False), Dealer Score: 5\n",
      "Taking action: Hit\n",
      "Player Score: 22 (Usable Ace: False), Dealer Score: 5\n",
      "Game end. Reward: -1.0\n",
      "\n",
      "Player Score: 20 (Usable Ace: False), Dealer Score: 5\n",
      "Taking action: Stick\n",
      "Player Score: 20 (Usable Ace: False), Dealer Score: 5\n",
      "Game end. Reward: 1.0\n",
      "\n",
      "Player Score: 15 (Usable Ace: False), Dealer Score: 5\n",
      "Taking action: Hit\n",
      "Player Score: 17 (Usable Ace: False), Dealer Score: 5\n",
      "Taking action: Hit\n",
      "Player Score: 27 (Usable Ace: False), Dealer Score: 5\n",
      "Game end. Reward: -1.0\n",
      "\n",
      "Player Score: 13 (Usable Ace: False), Dealer Score: 5\n",
      "Taking action: Hit\n",
      "Player Score: 23 (Usable Ace: False), Dealer Score: 5\n",
      "Game end. Reward: -1.0\n",
      "\n",
      "Player Score: 16 (Usable Ace: False), Dealer Score: 5\n",
      "Taking action: Hit\n",
      "Player Score: 24 (Usable Ace: False), Dealer Score: 5\n",
      "Game end. Reward: -1.0\n",
      "\n",
      "Player Score: 14 (Usable Ace: False), Dealer Score: 9\n",
      "Taking action: Hit\n",
      "Player Score: 24 (Usable Ace: False), Dealer Score: 9\n",
      "Game end. Reward: -1.0\n",
      "\n",
      "Player Score: 12 (Usable Ace: False), Dealer Score: 10\n",
      "Taking action: Hit\n",
      "Player Score: 14 (Usable Ace: False), Dealer Score: 10\n",
      "Taking action: Hit\n",
      "Player Score: 19 (Usable Ace: False), Dealer Score: 10\n",
      "Taking action: Hit\n",
      "Player Score: 28 (Usable Ace: False), Dealer Score: 10\n",
      "Game end. Reward: -1.0\n",
      "\n",
      "Player Score: 13 (Usable Ace: False), Dealer Score: 7\n",
      "Taking action: Hit\n",
      "Player Score: 15 (Usable Ace: False), Dealer Score: 7\n",
      "Taking action: Hit\n",
      "Player Score: 17 (Usable Ace: False), Dealer Score: 7\n",
      "Taking action: Hit\n",
      "Player Score: 27 (Usable Ace: False), Dealer Score: 7\n",
      "Game end. Reward: -1.0\n",
      "\n",
      "Player Score: 20 (Usable Ace: False), Dealer Score: 10\n",
      "Taking action: Stick\n",
      "Player Score: 20 (Usable Ace: False), Dealer Score: 10\n",
      "Game end. Reward: 1.0\n",
      "\n",
      "Player Score: 13 (Usable Ace: True), Dealer Score: 2\n",
      "Taking action: Hit\n",
      "Player Score: 13 (Usable Ace: False), Dealer Score: 2\n",
      "Taking action: Hit\n",
      "Player Score: 23 (Usable Ace: False), Dealer Score: 2\n",
      "Game end. Reward: -1.0\n",
      "\n",
      "Player Score: 13 (Usable Ace: False), Dealer Score: 5\n",
      "Taking action: Hit\n",
      "Player Score: 16 (Usable Ace: False), Dealer Score: 5\n",
      "Taking action: Hit\n",
      "Player Score: 19 (Usable Ace: False), Dealer Score: 5\n",
      "Taking action: Hit\n",
      "Player Score: 27 (Usable Ace: False), Dealer Score: 5\n",
      "Game end. Reward: -1.0\n",
      "\n",
      "Player Score: 15 (Usable Ace: False), Dealer Score: 7\n",
      "Taking action: Hit\n",
      "Player Score: 25 (Usable Ace: False), Dealer Score: 7\n",
      "Game end. Reward: -1.0\n",
      "\n",
      "Player Score: 20 (Usable Ace: False), Dealer Score: 4\n",
      "Taking action: Stick\n",
      "Player Score: 20 (Usable Ace: False), Dealer Score: 4\n",
      "Game end. Reward: 1.0\n",
      "\n"
     ]
    }
   ],
   "source": [
    "def print_observation(observation):\n",
    "    score, dealer_score, usable_ace = observation\n",
    "    print(\"Player Score: {} (Usable Ace: {}), Dealer Score: {}\".format(\n",
    "          score, usable_ace, dealer_score))\n",
    "\n",
    "def strategy(observation):\n",
    "    score, dealer_score, usable_ace = observation\n",
    "    # Stick (action 0) if the score is > 20, hit (action 1) otherwise\n",
    "    return 0 if score >= 20 else 1\n",
    "\n",
    "for i_episode in range(20):\n",
    "    observation = env.reset()\n",
    "    for t in range(100):\n",
    "        print_observation(observation)\n",
    "        action = strategy(observation)\n",
    "        print(\"Taking action: {}\".format( [\"Stick\", \"Hit\"][action]))\n",
    "        observation, reward, done, _ = env.step(action)\n",
    "        if done:\n",
    "            print_observation(observation)\n",
    "            print(\"Game end. Reward: {}\\n\".format(float(reward)))\n",
    "            break"
   ]
  },
  {
   "cell_type": "markdown",
   "metadata": {},
   "source": [
    "### Inspect the environment"
   ]
  },
  {
   "cell_type": "code",
   "execution_count": 9,
   "metadata": {
    "collapsed": false
   },
   "outputs": [
    {
     "name": "stdout",
     "output_type": "stream",
     "text": [
      "Discrete(2)\n",
      "Tuple(Discrete(32), Discrete(11), Discrete(2))\n"
     ]
    }
   ],
   "source": [
    "print(env.action_space)\n",
    "print(env.observation_space)"
   ]
  },
  {
   "cell_type": "code",
   "execution_count": 10,
   "metadata": {
    "collapsed": false
   },
   "outputs": [
    {
     "data": {
      "text/plain": [
       "['__class__',\n",
       " '__del__',\n",
       " '__delattr__',\n",
       " '__dict__',\n",
       " '__dir__',\n",
       " '__doc__',\n",
       " '__eq__',\n",
       " '__format__',\n",
       " '__ge__',\n",
       " '__getattribute__',\n",
       " '__gt__',\n",
       " '__hash__',\n",
       " '__init__',\n",
       " '__le__',\n",
       " '__lt__',\n",
       " '__module__',\n",
       " '__ne__',\n",
       " '__new__',\n",
       " '__reduce__',\n",
       " '__reduce_ex__',\n",
       " '__repr__',\n",
       " '__setattr__',\n",
       " '__sizeof__',\n",
       " '__str__',\n",
       " '__subclasshook__',\n",
       " '__weakref__',\n",
       " '_close',\n",
       " '_closed',\n",
       " '_configure',\n",
       " '_configured',\n",
       " '_env_closer_id',\n",
       " '_get_obs',\n",
       " '_monitor',\n",
       " '_owns_render',\n",
       " '_render',\n",
       " '_reset',\n",
       " '_seed',\n",
       " '_step',\n",
       " '_unwrapped',\n",
       " 'action_space',\n",
       " 'close',\n",
       " 'configure',\n",
       " 'dealer',\n",
       " 'metadata',\n",
       " 'monitor',\n",
       " 'nA',\n",
       " 'natural',\n",
       " 'np_random',\n",
       " 'observation_space',\n",
       " 'player',\n",
       " 'render',\n",
       " 'reset',\n",
       " 'reward_range',\n",
       " 'seed',\n",
       " 'spec',\n",
       " 'step',\n",
       " 'unwrapped']"
      ]
     },
     "execution_count": 10,
     "metadata": {},
     "output_type": "execute_result"
    }
   ],
   "source": [
    "dir(env)"
   ]
  }
 ],
 "metadata": {
  "anaconda-cloud": {},
  "kernelspec": {
   "display_name": "Python [default]",
   "language": "python",
   "name": "python3"
  },
  "language_info": {
   "codemirror_mode": {
    "name": "ipython",
    "version": 3
   },
   "file_extension": ".py",
   "mimetype": "text/x-python",
   "name": "python",
   "nbconvert_exporter": "python",
   "pygments_lexer": "ipython3",
   "version": "3.5.2"
  }
 },
 "nbformat": 4,
 "nbformat_minor": 0
}
