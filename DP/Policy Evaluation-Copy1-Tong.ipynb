{
 "cells": [
  {
   "cell_type": "code",
   "execution_count": 67,
   "metadata": {
    "collapsed": false
   },
   "outputs": [],
   "source": [
    "import numpy as np\n",
    "import sys\n",
    "if \"../\" not in sys.path:\n",
    "  sys.path.append(\"../\") \n",
    "from lib.envs.gridworld import GridworldEnv"
   ]
  },
  {
   "cell_type": "code",
   "execution_count": 68,
   "metadata": {
    "collapsed": true
   },
   "outputs": [],
   "source": [
    "env = GridworldEnv()"
   ]
  },
  {
   "cell_type": "markdown",
   "metadata": {},
   "source": [
    "### Implementation"
   ]
  },
  {
   "cell_type": "markdown",
   "metadata": {},
   "source": [
    "Steps:\n",
    "* Get avg reward R right\n",
    "* Get avg prob P right\n",
    "* Bellman backups"
   ]
  },
  {
   "cell_type": "code",
   "execution_count": 79,
   "metadata": {
    "collapsed": false
   },
   "outputs": [],
   "source": [
    "def policy_eval(policy, env, discount_factor=1.0, theta=0.00001):\n",
    "    \"\"\"\n",
    "    Evaluate a policy given an environment and a full description of the environment's dynamics.\n",
    "    \n",
    "    Args:\n",
    "        policy: [S, A] shaped matrix representing the policy.\n",
    "        env: OpenAI env. env.P represents the transition probabilities of the environment.\n",
    "            env.P[s][a] is a (prob, next_state, reward, done) tuple.\n",
    "        theta: We stop evaluation once our value function change is less than theta for all states.\n",
    "        discount_factor: gamma discount factor.\n",
    "    \n",
    "    Returns:\n",
    "        Vector of length env.nS representing the value function.\n",
    "    \"\"\"\n",
    "    # Start with a random (all 0) value function\n",
    "    V = np.zeros(env.nS)\n",
    "    counter = 0\n",
    "    while True:\n",
    "        # TODO: Implement!\n",
    "        # Step 1: get the reward R\n",
    "        R = np.zeros(env.nS)\n",
    "        for s in range(env.nS):\n",
    "            R_s = np.zeros(env.nA)\n",
    "            R_s = np.array([env.P[s][a][0][2] for a in range(env.nA)])\n",
    "            R[s] = np.dot(policy[s], R_s)\n",
    "        # Step 2: get the transition matrix P\n",
    "        P = np.zeros([env.nS, env.nS])\n",
    "        for s in range(env.nS):                        \n",
    "            for a in range(env.nA):\n",
    "                P_s_a = np.zeros(env.nS)\n",
    "                P_s_a[env.P[s][a][0][1]] = 1\n",
    "                P[s,:] += policy[s][a] * P_s_a\n",
    "        # Step 3: Bellman backups\n",
    "        V_new = R + discount_factor*np.dot(P, V) \n",
    "        diff = np.max(np.abs(V_new - V))\n",
    "        if diff < theta:\n",
    "            print(\"Converged after %d steps.\" %counter)\n",
    "            break\n",
    "        else:\n",
    "            V = V_new\n",
    "            counter += 1\n",
    "            if counter % 50 == 0:\n",
    "                print(\"Iterated %d steps so far.\" %counter)        \n",
    "    return np.array(V)"
   ]
  },
  {
   "cell_type": "code",
   "execution_count": 80,
   "metadata": {
    "collapsed": false
   },
   "outputs": [
    {
     "name": "stdout",
     "output_type": "stream",
     "text": [
      "Iterated 50 steps so far.\n",
      "Iterated 100 steps so far.\n",
      "Iterated 150 steps so far.\n",
      "Iterated 200 steps so far.\n",
      "Converged after 214 steps.\n"
     ]
    }
   ],
   "source": [
    "random_policy = np.ones([env.nS, env.nA]) / env.nA\n",
    "v = policy_eval(random_policy, env)"
   ]
  },
  {
   "cell_type": "code",
   "execution_count": 82,
   "metadata": {
    "collapsed": false
   },
   "outputs": [],
   "source": [
    "# Test: Make sure the evaluated policy is what we expected\n",
    "expected_v = np.array([0, -14, -20, -22, -14, -18, -20, -20, -20, -20, -18, -14, -22, -20, -14, 0])\n",
    "np.testing.assert_array_almost_equal(v, expected_v, decimal=2)"
   ]
  },
  {
   "cell_type": "markdown",
   "metadata": {},
   "source": [
    "__Success!__"
   ]
  },
  {
   "cell_type": "code",
   "execution_count": 83,
   "metadata": {
    "collapsed": false
   },
   "outputs": [
    {
     "data": {
      "text/plain": [
       "array([  0.        , -13.99988715, -19.99983277, -21.99981286,\n",
       "       -13.99988715, -17.99985268, -19.99983389, -19.99983277,\n",
       "       -19.99983277, -19.99983389, -17.99985268, -13.99988715,\n",
       "       -21.99981286, -19.99983277, -13.99988715,   0.        ])"
      ]
     },
     "execution_count": 83,
     "metadata": {},
     "output_type": "execute_result"
    }
   ],
   "source": [
    "v"
   ]
  },
  {
   "cell_type": "code",
   "execution_count": 84,
   "metadata": {
    "collapsed": false
   },
   "outputs": [
    {
     "data": {
      "text/plain": [
       "array([  0, -14, -20, -22, -14, -18, -20, -20, -20, -20, -18, -14, -22,\n",
       "       -20, -14,   0])"
      ]
     },
     "execution_count": 84,
     "metadata": {},
     "output_type": "execute_result"
    }
   ],
   "source": [
    "expected_v"
   ]
  }
 ],
 "metadata": {
  "anaconda-cloud": {},
  "kernelspec": {
   "display_name": "Python [default]",
   "language": "python",
   "name": "python3"
  },
  "language_info": {
   "codemirror_mode": {
    "name": "ipython",
    "version": 3
   },
   "file_extension": ".py",
   "mimetype": "text/x-python",
   "name": "python",
   "nbconvert_exporter": "python",
   "pygments_lexer": "ipython3",
   "version": "3.5.2"
  }
 },
 "nbformat": 4,
 "nbformat_minor": 0
}
